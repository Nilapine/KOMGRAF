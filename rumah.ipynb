{
 "cells": [
  {
   "cell_type": "code",
   "execution_count": 1,
   "id": "523cb66f-0961-4098-b1cc-e627ee9b02f5",
   "metadata": {},
   "outputs": [],
   "source": [
    "import turtle"
   ]
  },
  {
   "cell_type": "code",
   "execution_count": 2,
   "id": "2064740e-3486-48e3-8219-47fdcae07963",
   "metadata": {},
   "outputs": [],
   "source": [
    "t = turtle.Turtle()"
   ]
  },
  {
   "cell_type": "code",
   "execution_count": 3,
   "id": "21e3d4db-9847-4211-8d4a-d1e0093b62f3",
   "metadata": {},
   "outputs": [],
   "source": [
    "turtle.title(\"home\")"
   ]
  },
  {
   "cell_type": "code",
   "execution_count": 4,
   "id": "8b242213-6e58-41a1-b37c-7f2b8afde3c7",
   "metadata": {},
   "outputs": [],
   "source": [
    "t.shape(\"turtle\")"
   ]
  },
  {
   "cell_type": "code",
   "execution_count": 77,
   "id": "df2eee85-4ae5-4b15-96b4-c39e4b1f2b1e",
   "metadata": {},
   "outputs": [],
   "source": [
    "t.home()"
   ]
  },
  {
   "cell_type": "code",
   "execution_count": 78,
   "id": "a0c94ca6-d3ce-46d5-b63c-0d4809742556",
   "metadata": {},
   "outputs": [],
   "source": [
    "#kotak kecil\n",
    "t.backward(100)\n",
    "t.left(90)\n",
    "t.backward(100)\n",
    "t.left(90)\n",
    "t.backward(100)\n",
    "t.left(90)\n",
    "t.backward(100)\n",
    "t.left(90)"
   ]
  },
  {
   "cell_type": "code",
   "execution_count": 79,
   "id": "383afa9f-c672-4546-86ce-dd74bc6b1e93",
   "metadata": {},
   "outputs": [],
   "source": [
    "#atap segitiga\n",
    "t.bk(100)\n",
    "t.rt(120)\n",
    "t.bk(100)\n",
    "t.rt(120)\n",
    "t.bk(100)"
   ]
  },
  {
   "cell_type": "code",
   "execution_count": 80,
   "id": "cee61ff0-29b0-41fb-91b5-bcc99deca00f",
   "metadata": {},
   "outputs": [],
   "source": [
    "for i in range(2): \n",
    "    t.forward(100) \n",
    "    t.rt(120) \n",
    "    t.forward(50) \n",
    "    t.rt(120)"
   ]
  },
  {
   "cell_type": "code",
   "execution_count": null,
   "id": "588156d9-7053-4e28-8e1d-1dbc453ecac5",
   "metadata": {},
   "outputs": [],
   "source": []
  }
 ],
 "metadata": {
  "kernelspec": {
   "display_name": "Python 3 (ipykernel)",
   "language": "python",
   "name": "python3"
  },
  "language_info": {
   "codemirror_mode": {
    "name": "ipython",
    "version": 3
   },
   "file_extension": ".py",
   "mimetype": "text/x-python",
   "name": "python",
   "nbconvert_exporter": "python",
   "pygments_lexer": "ipython3",
   "version": "3.12.2"
  }
 },
 "nbformat": 4,
 "nbformat_minor": 5
}
