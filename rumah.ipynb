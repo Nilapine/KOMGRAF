{
 "cells": [
  {
   "cell_type": "code",
   "execution_count": 1,
   "id": "523cb66f-0961-4098-b1cc-e627ee9b02f5",
   "metadata": {},
   "outputs": [],
   "source": [
    "import turtle"
   ]
  },
  {
   "cell_type": "code",
   "execution_count": 2,
   "id": "2064740e-3486-48e3-8219-47fdcae07963",
   "metadata": {},
   "outputs": [],
   "source": [
    "t = turtle.Turtle()"
   ]
  },
  {
   "cell_type": "code",
   "execution_count": 3,
   "id": "21e3d4db-9847-4211-8d4a-d1e0093b62f3",
   "metadata": {},
   "outputs": [],
   "source": [
    "turtle.title(\"home\")"
   ]
  },
  {
   "cell_type": "code",
   "execution_count": 4,
   "id": "8b242213-6e58-41a1-b37c-7f2b8afde3c7",
   "metadata": {},
   "outputs": [],
   "source": [
    "t.shape(\"turtle\")"
   ]
  },
  {
   "cell_type": "code",
   "execution_count": 5,
   "id": "df2eee85-4ae5-4b15-96b4-c39e4b1f2b1e",
   "metadata": {},
   "outputs": [],
   "source": [
    "t.home()"
   ]
  },
  {
   "cell_type": "code",
   "execution_count": 6,
   "id": "a0c94ca6-d3ce-46d5-b63c-0d4809742556",
   "metadata": {},
   "outputs": [],
   "source": [
    "#kotak kecil\n",
    "t.backward(100)\n",
    "t.left(90)\n",
    "t.backward(100)\n",
    "t.left(90)\n",
    "t.backward(100)\n",
    "t.left(90)\n",
    "t.backward(100)\n",
    "t.left(90)"
   ]
  },
  {
   "cell_type": "code",
   "execution_count": 7,
   "id": "383afa9f-c672-4546-86ce-dd74bc6b1e93",
   "metadata": {},
   "outputs": [],
   "source": [
    "#atap segitiga\n",
    "t.bk(100)\n",
    "t.rt(120)\n",
    "t.bk(100)\n",
    "t.rt(120)\n",
    "t.bk(100)"
   ]
  },
  {
   "cell_type": "code",
   "execution_count": 8,
   "id": "cee61ff0-29b0-41fb-91b5-bcc99deca00f",
   "metadata": {},
   "outputs": [],
   "source": [
    "#atap panjang (jajar genjang)\n",
    "for i in range(2): \n",
    "    t.forward(100) \n",
    "    t.rt(120) \n",
    "    t.forward(150) \n",
    "    t.rt(60)"
   ]
  },
  {
   "cell_type": "code",
   "execution_count": 9,
   "id": "bfb9915f-6788-4b8d-929e-2c5e0e9b0bfc",
   "metadata": {},
   "outputs": [],
   "source": [
    "t.home()"
   ]
  },
  {
   "cell_type": "code",
   "execution_count": 10,
   "id": "588156d9-7053-4e28-8e1d-1dbc453ecac5",
   "metadata": {},
   "outputs": [],
   "source": [
    "#kotak besar\n",
    "for i in range(2):\n",
    "    t.fd(150)\n",
    "    t.rt(90)\n",
    "    t.fd(100)\n",
    "    t.rt(90)"
   ]
  },
  {
   "cell_type": "code",
   "execution_count": 11,
   "id": "b9ce6d13-b5d3-40b4-a2cd-6dd442bf726f",
   "metadata": {},
   "outputs": [],
   "source": [
    "t.rt(90)\n",
    "t.fd(100)\n",
    "t.rt(90)\n",
    "t.fd(60)\n",
    "t.rt(90)\n",
    "t.fd(30)\n",
    "t.rt(90)\n",
    "t.fd(20)\n",
    "t.rt(90)\n",
    "t.fd(30)\n",
    "t.lt(90)\n",
    "t.fd(40)\n",
    "t.lt(90)\n",
    "t.fd(100)"
   ]
  },
  {
   "cell_type": "code",
   "execution_count": null,
   "id": "955dbb3e-c870-481d-9459-2b4d9468a0a8",
   "metadata": {},
   "outputs": [],
   "source": []
  },
  {
   "cell_type": "code",
   "execution_count": null,
   "id": "c64d4c20-c538-4fd7-9551-06ae35fc7b18",
   "metadata": {},
   "outputs": [],
   "source": []
  },
  {
   "cell_type": "code",
   "execution_count": null,
   "id": "09f7461b-e08d-49fa-b57d-86b2dc179a4c",
   "metadata": {},
   "outputs": [],
   "source": []
  }
 ],
 "metadata": {
  "kernelspec": {
   "display_name": "Python 3 (ipykernel)",
   "language": "python",
   "name": "python3"
  },
  "language_info": {
   "codemirror_mode": {
    "name": "ipython",
    "version": 3
   },
   "file_extension": ".py",
   "mimetype": "text/x-python",
   "name": "python",
   "nbconvert_exporter": "python",
   "pygments_lexer": "ipython3",
   "version": "3.12.2"
  }
 },
 "nbformat": 4,
 "nbformat_minor": 5
}
