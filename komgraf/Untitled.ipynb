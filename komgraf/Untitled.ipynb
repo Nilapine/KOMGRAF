{
 "cells": [
  {
   "cell_type": "code",
   "execution_count": 1,
   "id": "644def7c-c656-4a01-85e4-5501db55dcdf",
   "metadata": {},
   "outputs": [],
   "source": [
    "import turtle"
   ]
  },
  {
   "cell_type": "code",
   "execution_count": 2,
   "id": "ef540d6c-884a-4726-b6f1-c3caa4884a5d",
   "metadata": {},
   "outputs": [],
   "source": [
    "t = turtle.Turtle()"
   ]
  },
  {
   "cell_type": "code",
   "execution_count": 3,
   "id": "28bdb200-494e-4a3a-b89f-687d0473466e",
   "metadata": {},
   "outputs": [],
   "source": [
    "s = turtle.Screen()"
   ]
  },
  {
   "cell_type": "code",
   "execution_count": 4,
   "id": "1fd3ee17-1872-43c6-8b33-96640a1c1e50",
   "metadata": {},
   "outputs": [],
   "source": [
    "#untuk mengubah background layar\n",
    "turtle.bgcolor(\"green\")"
   ]
  },
  {
   "cell_type": "code",
   "execution_count": 5,
   "id": "f5125590-7060-4f54-b06e-26de373117a6",
   "metadata": {},
   "outputs": [],
   "source": [
    "#untuk mengubah judul layar\n",
    "turtle.title(\"Try Turtle\")"
   ]
  },
  {
   "cell_type": "code",
   "execution_count": 6,
   "id": "4a382313-dd38-4339-bb73-431098d4f409",
   "metadata": {},
   "outputs": [],
   "source": [
    "#untuk mengubah kura-kura dan isi\n",
    "t.fillcolor(\"red\")\n",
    "t.pencolor(\"black\")\n"
   ]
  },
  {
   "cell_type": "code",
   "execution_count": 7,
   "id": "3b032335-3ce3-4619-a638-b0c0da230b6d",
   "metadata": {},
   "outputs": [],
   "source": [
    "#atau apabila ingin mengubah keduanya\n",
    "t.color(\"black\", \"yellow\")"
   ]
  },
  {
   "cell_type": "code",
   "execution_count": 8,
   "id": "962f1978-6c74-4508-b9ef-fdb175d710d4",
   "metadata": {},
   "outputs": [],
   "source": [
    "#mengubah bentuk kura kura\n",
    "t.shape(\"turtle\")\n",
    "t.shape(\"arrow\")\n",
    "t.shape(\"circle\")\n",
    "t.shape(\"classic\")\n",
    "t.shape(\"turtle\")"
   ]
  },
  {
   "cell_type": "code",
   "execution_count": 9,
   "id": "539b6217-f0d5-46b6-af4e-f75d1408e907",
   "metadata": {},
   "outputs": [],
   "source": [
    "#garis ke1\n",
    "t.forward(50)\n",
    "t.right(90)"
   ]
  },
  {
   "cell_type": "code",
   "execution_count": 10,
   "id": "5193e381-9d3a-4d0f-a3de-53f1782e29f3",
   "metadata": {},
   "outputs": [],
   "source": [
    "#garis ke2\n",
    "t.forward(50)\n",
    "t.right(90)"
   ]
  },
  {
   "cell_type": "code",
   "execution_count": 11,
   "id": "710a5055-0506-4afe-a016-65f103bcfcfa",
   "metadata": {},
   "outputs": [],
   "source": [
    "#garis ke3\n",
    "t.forward(50)\n",
    "t.right(90)"
   ]
  },
  {
   "cell_type": "code",
   "execution_count": 12,
   "id": "f4a02e5a-2b31-4a93-9bce-7c7fd3c4655e",
   "metadata": {},
   "outputs": [],
   "source": [
    "#garis ke4\n",
    "t.forward(50)\n",
    "t.right(90)"
   ]
  },
  {
   "cell_type": "code",
   "execution_count": 13,
   "id": "6c114c53-99ac-40aa-b855-450e4a7fb2da",
   "metadata": {},
   "outputs": [],
   "source": [
    "#mengisi gambar\n",
    "t.begin_fill()\n",
    "t.fd(100)\n",
    "t.lt(120)\n",
    "t.fd(100)\n",
    "t.lt(120)\n",
    "t.fd(100)\n",
    "t.end_fill()"
   ]
  },
  {
   "cell_type": "code",
   "execution_count": 14,
   "id": "21a1c120-1e69-4abf-b776-7b90067bcad6",
   "metadata": {},
   "outputs": [],
   "source": [
    "t.goto(100,100)"
   ]
  },
  {
   "cell_type": "code",
   "execution_count": 15,
   "id": "4908fb88-d73c-4167-ae62-968f08f858cd",
   "metadata": {},
   "outputs": [],
   "source": [
    "#untuk mengembalikan di posisi awal\n",
    "t.home()"
   ]
  },
  {
   "cell_type": "code",
   "execution_count": 16,
   "id": "538cea16-0d5f-49fd-a127-c071d0c5b2aa",
   "metadata": {},
   "outputs": [],
   "source": [
    ">>> t.fd(100)\n",
    ">>> t.rt(90)\n",
    ">>> t.fd(100)\n",
    ">>> t.rt(90)\n",
    ">>> t.fd(100)\n",
    ">>> t.rt(90)\n",
    ">>> t.fd(100)"
   ]
  },
  {
   "cell_type": "code",
   "execution_count": 17,
   "id": "d6028bd7-2a79-45b9-b91c-fd29c5707a05",
   "metadata": {},
   "outputs": [],
   "source": [
    "#untuk membuat lingkaran\n",
    "t.circle(200)\n",
    "t.circle(20)"
   ]
  },
  {
   "cell_type": "code",
   "execution_count": 18,
   "id": "eee53bd3-97ab-4d60-9a14-a26d4155ef37",
   "metadata": {},
   "outputs": [],
   "source": [
    "#untuk membuat titik\n",
    "t.dot(30) #angka dlm tanda kurung merupakan diameter titik"
   ]
  },
  {
   "cell_type": "markdown",
   "id": "393f9b0d-f439-4db1-8472-f6a9eb15240b",
   "metadata": {},
   "source": [
    "### mengubah kecepatan pena\n"
   ]
  },
  {
   "cell_type": "code",
   "execution_count": 31,
   "id": "425624f7-629f-4d07-ab2a-252397f7a5d4",
   "metadata": {},
   "outputs": [],
   "source": [
    "t.speed(1)\n",
    "t.forward(200)\n",
    "t.speed(20)\n",
    "t.right(200)"
   ]
  },
  {
   "cell_type": "markdown",
   "id": "2266626d-ace4-422c-92c2-1379aa62fbec",
   "metadata": {},
   "source": [
    "Kode ini pertama-tama akan menurunkan kecepatan dan menggerakkan kura-kura ke depan, lalu menaikkan kecepatan dan menggerakkan kura-kura ke depan lagi"
   ]
  },
  {
   "cell_type": "code",
   "execution_count": null,
   "id": "a30f801d-a077-43fc-9d3a-a32356ee2b2d",
   "metadata": {},
   "outputs": [],
   "source": [
    "turtle.done()"
   ]
  },
  {
   "cell_type": "code",
   "execution_count": null,
   "id": "59c8d217-e5a7-4e04-add4-929a25135067",
   "metadata": {},
   "outputs": [],
   "source": []
  }
 ],
 "metadata": {
  "kernelspec": {
   "display_name": "Python 3 (ipykernel)",
   "language": "python",
   "name": "python3"
  },
  "language_info": {
   "codemirror_mode": {
    "name": "ipython",
    "version": 3
   },
   "file_extension": ".py",
   "mimetype": "text/x-python",
   "name": "python",
   "nbconvert_exporter": "python",
   "pygments_lexer": "ipython3",
   "version": "3.12.2"
  }
 },
 "nbformat": 4,
 "nbformat_minor": 5
}
